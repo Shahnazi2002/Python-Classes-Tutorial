{
 "cells": [
  {
   "cell_type": "code",
   "execution_count": 1,
   "id": "07f757ca",
   "metadata": {},
   "outputs": [],
   "source": [
    "class Person:\n",
    "    def __init__(self, name, age):\n",
    "        self.name = name\n",
    "        self.age = age"
   ]
  },
  {
   "cell_type": "code",
   "execution_count": 2,
   "id": "5104ef6a",
   "metadata": {},
   "outputs": [
    {
     "name": "stdout",
     "output_type": "stream",
     "text": [
      "Name: Mohammad\n",
      "Age: 20\n"
     ]
    }
   ],
   "source": [
    "p1 = Person(\"Mohammad\", 20)\n",
    "print(\"Name:\", p1.name)\n",
    "print(\"Age:\", p1.age)"
   ]
  },
  {
   "cell_type": "code",
   "execution_count": 3,
   "id": "ecbcb1a4",
   "metadata": {},
   "outputs": [],
   "source": [
    "class Person:\n",
    "    def __init__(self, first_name, last_name, age):\n",
    "        self.first_name = first_name\n",
    "        self.last_name = last_name\n",
    "        self.age = age\n",
    "\n",
    "    def full_name(self):\n",
    "        print(self.first_name, self.last_name)"
   ]
  },
  {
   "cell_type": "code",
   "execution_count": 4,
   "id": "18a3cede",
   "metadata": {},
   "outputs": [
    {
     "name": "stdout",
     "output_type": "stream",
     "text": [
      "Mohammad Shahnazi\n"
     ]
    }
   ],
   "source": [
    "p1 = Person(\"Mohammad\", \"Shahnazi\", 20)\n",
    "p1.full_name()"
   ]
  },
  {
   "cell_type": "code",
   "execution_count": 5,
   "id": "e98f0cc2",
   "metadata": {},
   "outputs": [],
   "source": [
    "class Person:\n",
    "    def __init__(self, first_name, last_name):\n",
    "        self.first_name = first_name\n",
    "        self.last_name = last_name\n",
    "\n",
    "    def full_name(self):\n",
    "        print(self.first_name, self.last_name)\n",
    "\n",
    "    def info(self):\n",
    "        print(\"I am\", self.first_name, self.last_name)"
   ]
  },
  {
   "cell_type": "code",
   "execution_count": 6,
   "id": "645e7816",
   "metadata": {},
   "outputs": [],
   "source": [
    "class Student(Person):\n",
    "    def info(self):\n",
    "        print(\"I am a student. My name is\", self.first_name, self.last_name)"
   ]
  },
  {
   "cell_type": "code",
   "execution_count": 7,
   "id": "24e9c7ac",
   "metadata": {},
   "outputs": [],
   "source": [
    "class Teacher(Person):\n",
    "    def info(self):\n",
    "        print(\"I am a teacher. My name is\", self.first_name, self.last_name)"
   ]
  },
  {
   "cell_type": "code",
   "execution_count": 8,
   "id": "2b6bc254",
   "metadata": {},
   "outputs": [
    {
     "name": "stdout",
     "output_type": "stream",
     "text": [
      "Mohammad Shahnazi\n",
      "I am a student. My name is Mohammad Shahnazi\n",
      "Alireza Ghaffari\n",
      "I am a teacher. My name is Alireza Ghaffari\n"
     ]
    }
   ],
   "source": [
    "student1 = Student(\"Mohammad\", \"Shahnazi\")\n",
    "teacher1 = Teacher(\"Alireza\", \"Ghaffari\")\n",
    "student1.full_name()\n",
    "student1.info()\n",
    "teacher1.full_name()\n",
    "teacher1.info()"
   ]
  },
  {
   "cell_type": "code",
   "execution_count": 9,
   "id": "0cb8c41e",
   "metadata": {},
   "outputs": [],
   "source": [
    "class Member:\n",
    "    def __init__(self, id, first_name, last_name, birthyear):\n",
    "        self.id = id\n",
    "        self.first_name = first_name\n",
    "        self.last_name = last_name\n",
    "        self.birthyear = birthyear\n",
    "\n",
    "    def __str__(self):\n",
    "        return f\"ID: {self.id}\\nName: {self.first_name} {self.last_name}\\nAge: {2022-self.birthyear}\""
   ]
  },
  {
   "cell_type": "code",
   "execution_count": 10,
   "id": "4f653642",
   "metadata": {},
   "outputs": [
    {
     "name": "stdout",
     "output_type": "stream",
     "text": [
      "ID: 1001\n",
      "Name: Mohammad Shahnazi\n",
      "Age: 20\n"
     ]
    }
   ],
   "source": [
    "m1 = Member(1001, \"Mohammad\", \"Shahnazi\", 2002)\n",
    "print(m1)"
   ]
  },
  {
   "cell_type": "code",
   "execution_count": 11,
   "id": "1d64978f",
   "metadata": {},
   "outputs": [],
   "source": [
    "class MyClass:\n",
    "    pass"
   ]
  },
  {
   "cell_type": "code",
   "execution_count": 12,
   "id": "82117534",
   "metadata": {},
   "outputs": [
    {
     "name": "stdout",
     "output_type": "stream",
     "text": [
      "MyClass\n"
     ]
    }
   ],
   "source": [
    "obj = MyClass()\n",
    "print(obj.__class__.__name__)"
   ]
  },
  {
   "cell_type": "code",
   "execution_count": 13,
   "id": "321432f1",
   "metadata": {},
   "outputs": [],
   "source": [
    "class Car:\n",
    "    def __init__(self, color, year):\n",
    "        self.color = color\n",
    "        self.year = year\n",
    "\n",
    "    def __str__(self):\n",
    "        return f\"{self.__class__.__name__}:\\nColor: {self.color}\\nBuild Year: {self.year}\"\n",
    "\n",
    "\n",
    "class Taxi(Car):\n",
    "    pass\n",
    "\n",
    "\n",
    "class Bus(Car):\n",
    "    pass"
   ]
  },
  {
   "cell_type": "code",
   "execution_count": 14,
   "id": "4483d8ca",
   "metadata": {},
   "outputs": [
    {
     "name": "stdout",
     "output_type": "stream",
     "text": [
      "\n",
      "Car:\n",
      "Color: Black\n",
      "Build Year: 2021\n"
     ]
    }
   ],
   "source": [
    "car1 = Car(\"Black\", 2021)\n",
    "print(car1)"
   ]
  },
  {
   "cell_type": "code",
   "execution_count": 15,
   "id": "0d445b86",
   "metadata": {},
   "outputs": [
    {
     "name": "stdout",
     "output_type": "stream",
     "text": [
      "\n",
      "Taxi:\n",
      "Color: Yellow\n",
      "Build Year: 2015\n"
     ]
    }
   ],
   "source": [
    "car2 = Taxi(\"Yellow\", 2015)\n",
    "print(car2)"
   ]
  },
  {
   "cell_type": "code",
   "execution_count": 16,
   "id": "b62f2684",
   "metadata": {},
   "outputs": [
    {
     "name": "stdout",
     "output_type": "stream",
     "text": [
      "\n",
      "Bus:\n",
      "Color: Red\n",
      "Build Year: 2018\n"
     ]
    }
   ],
   "source": [
    "car3 = Bus(\"Red\", 2018)\n",
    "print(car3)"
   ]
  },
  {
   "cell_type": "code",
   "execution_count": 18,
   "id": "bc70fcef",
   "metadata": {},
   "outputs": [],
   "source": [
    "class Person:\n",
    "    def __init__(self, first_name, last_name, birthyear):\n",
    "        self.name = f\"{first_name} {last_name}\"\n",
    "        self.age = 2022 - birthyear\n",
    "\n",
    "    def info(self):\n",
    "        print(f\"Name: {self.name}\\nAge: {self.age}\")\n",
    "\n",
    "\n",
    "class Student(Person):\n",
    "    def __init__(self, first_name, last_name, birthyear, university):\n",
    "        super().__init__(first_name, last_name, birthyear)\n",
    "        self.university = university\n",
    "\n",
    "    def info(self):\n",
    "        print(f\"Name: {self.name}\\nAge: {self.age}\\nUniversity: {self.university}\")\n",
    "\n",
    "\n",
    "class Driver(Person):\n",
    "    def __init__(self, first_name, last_name, birthyear, licence_class):\n",
    "        super().__init__(first_name, last_name, birthyear)\n",
    "        self.licence_class = licence_class\n",
    "\n",
    "    def info(self):\n",
    "        print(f\"Name: {self.name}\\nAge: {self.age}\\nLicence: Class {self.licence_class}\")"
   ]
  },
  {
   "cell_type": "code",
   "execution_count": 19,
   "id": "cb45e721",
   "metadata": {},
   "outputs": [
    {
     "name": "stdout",
     "output_type": "stream",
     "text": [
      "Name: Reza Barghi\n",
      "Age: 18\n"
     ]
    }
   ],
   "source": [
    "p1 = Person(\"Reza\", \"Barghi\", 2004)\n",
    "p1.info()"
   ]
  },
  {
   "cell_type": "code",
   "execution_count": 20,
   "id": "013ef624",
   "metadata": {},
   "outputs": [
    {
     "name": "stdout",
     "output_type": "stream",
     "text": [
      "Name: Mohammad Shahnazi\n",
      "Age: 20\n",
      "University: Azarbaijan Shahid Madani University\n"
     ]
    }
   ],
   "source": [
    "p2 = Student(\"Mohammad\", \"Shahnazi\", 2002, \"Azarbaijan Shahid Madani University\")\n",
    "p2.info()"
   ]
  },
  {
   "cell_type": "code",
   "execution_count": 21,
   "id": "d65123d8",
   "metadata": {
    "scrolled": true
   },
   "outputs": [
    {
     "name": "stdout",
     "output_type": "stream",
     "text": [
      "Name: Amin Shahnazi\n",
      "Age: 37\n",
      "Licence: Class A\n"
     ]
    }
   ],
   "source": [
    "p3 = Driver(\"Amin\", \"Shahnazi\", 1985, \"A\")\n",
    "p3.info()"
   ]
  }
 ],
 "metadata": {
  "kernelspec": {
   "display_name": "Python 3 (ipykernel)",
   "language": "python",
   "name": "python3"
  },
  "language_info": {
   "codemirror_mode": {
    "name": "ipython",
    "version": 3
   },
   "file_extension": ".py",
   "mimetype": "text/x-python",
   "name": "python",
   "nbconvert_exporter": "python",
   "pygments_lexer": "ipython3",
   "version": "3.10.0"
  }
 },
 "nbformat": 4,
 "nbformat_minor": 5
}
